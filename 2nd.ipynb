{
 "cells": [
  {
   "cell_type": "code",
   "execution_count": 1,
   "id": "598a3991",
   "metadata": {},
   "outputs": [],
   "source": [
    "from Bio import SeqIO"
   ]
  },
  {
   "cell_type": "code",
   "execution_count": 4,
   "id": "168e89c2",
   "metadata": {},
   "outputs": [
    {
     "name": "stdout",
     "output_type": "stream",
     "text": [
      "Description: seq1 This is the description for sequence 1\n",
      "sequence: ATGCATCGGCTAGCCCATTGACAGTAATGCATCGGCTAGCCCATTGACAGTAATTGACAGTAATGC\n"
     ]
    }
   ],
   "source": [
    "def read_fasta(file_path):\n",
    "    for record in SeqIO.parse(file_path,\"fasta\"):\n",
    "        print(f\"Description: {record.description}\")\n",
    "        print(f\"sequence: {record.seq}\")\n",
    "\n",
    "fasta_file=\"file.fasta\"\n",
    "read_fasta(fasta_file)"
   ]
  },
  {
   "cell_type": "code",
   "execution_count": null,
   "id": "1c14c3fd",
   "metadata": {},
   "outputs": [],
   "source": []
  }
 ],
 "metadata": {
  "kernelspec": {
   "display_name": "base",
   "language": "python",
   "name": "python3"
  },
  "language_info": {
   "codemirror_mode": {
    "name": "ipython",
    "version": 3
   },
   "file_extension": ".py",
   "mimetype": "text/x-python",
   "name": "python",
   "nbconvert_exporter": "python",
   "pygments_lexer": "ipython3",
   "version": "3.12.7"
  }
 },
 "nbformat": 4,
 "nbformat_minor": 5
}
