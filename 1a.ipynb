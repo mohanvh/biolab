{
 "cells": [
  {
   "cell_type": "code",
   "execution_count": 2,
   "id": "a8ce412b",
   "metadata": {},
   "outputs": [
    {
     "name": "stdout",
     "output_type": "stream",
     "text": [
      "Collecting biopython\n",
      "  Downloading biopython-1.85-cp312-cp312-win_amd64.whl.metadata (13 kB)\n",
      "Requirement already satisfied: numpy in c:\\users\\vhmoh\\anaconda3\\lib\\site-packages (from biopython) (1.26.4)\n",
      "Downloading biopython-1.85-cp312-cp312-win_amd64.whl (2.8 MB)\n",
      "   ---------------------------------------- 0.0/2.8 MB ? eta -:--:--\n",
      "   --------------------------------- ------ 2.4/2.8 MB 13.4 MB/s eta 0:00:01\n",
      "   ---------------------------------------- 2.8/2.8 MB 13.6 MB/s eta 0:00:00\n",
      "Installing collected packages: biopython\n",
      "Successfully installed biopython-1.85\n",
      "Note: you may need to restart the kernel to use updated packages.\n"
     ]
    }
   ],
   "source": [
    "%pip install biopython"
   ]
  },
  {
   "cell_type": "code",
   "execution_count": 3,
   "id": "110a237a",
   "metadata": {},
   "outputs": [],
   "source": [
    "from Bio.Seq import Seq"
   ]
  },
  {
   "cell_type": "code",
   "execution_count": 4,
   "id": "0efb0adc",
   "metadata": {},
   "outputs": [
    {
     "name": "stdout",
     "output_type": "stream",
     "text": [
      "sliced:  CATG\n"
     ]
    }
   ],
   "source": [
    "dna_seq=Seq(\"ATGCATGGCC\")\n",
    "sliced=dna_seq[3:7]\n",
    "print(\"sliced: \",sliced)"
   ]
  },
  {
   "cell_type": "code",
   "execution_count": 5,
   "id": "d94e7ed6",
   "metadata": {},
   "outputs": [
    {
     "name": "stdout",
     "output_type": "stream",
     "text": [
      "concatinated:  CATGGCATATGC\n"
     ]
    }
   ],
   "source": [
    "another=Seq(\"GCATATGC\")\n",
    "concat=sliced+another\n",
    "print(\"concatinated: \",concat)"
   ]
  },
  {
   "cell_type": "code",
   "execution_count": 6,
   "id": "c6af2c54",
   "metadata": {},
   "outputs": [
    {
     "name": "stdout",
     "output_type": "stream",
     "text": [
      "RNA:  CAUGGCAUAUGC\n"
     ]
    }
   ],
   "source": [
    "rna=concat.transcribe()\n",
    "print(\"RNA: \",rna)\n"
   ]
  },
  {
   "cell_type": "code",
   "execution_count": 7,
   "id": "13412f71",
   "metadata": {},
   "outputs": [
    {
     "name": "stdout",
     "output_type": "stream",
     "text": [
      "protein:  HGIC\n"
     ]
    }
   ],
   "source": [
    "protein=rna.translate()\n",
    "print(\"protein: \",protein)"
   ]
  },
  {
   "cell_type": "code",
   "execution_count": null,
   "id": "e29aee56",
   "metadata": {},
   "outputs": [],
   "source": []
  }
 ],
 "metadata": {
  "kernelspec": {
   "display_name": "base",
   "language": "python",
   "name": "python3"
  },
  "language_info": {
   "codemirror_mode": {
    "name": "ipython",
    "version": 3
   },
   "file_extension": ".py",
   "mimetype": "text/x-python",
   "name": "python",
   "nbconvert_exporter": "python",
   "pygments_lexer": "ipython3",
   "version": "3.12.7"
  }
 },
 "nbformat": 4,
 "nbformat_minor": 5
}
