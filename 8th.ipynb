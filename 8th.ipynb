{
 "cells": [
  {
   "cell_type": "code",
   "execution_count": 1,
   "id": "556d7cfd",
   "metadata": {},
   "outputs": [],
   "source": [
    "from Bio import AlignIO\n",
    "import subprocess"
   ]
  },
  {
   "cell_type": "code",
   "execution_count": 4,
   "id": "8b11c13d",
   "metadata": {},
   "outputs": [
    {
     "name": "stdout",
     "output_type": "stream",
     "text": [
      "Alignment with 1 rows and 66 columns\n",
      "ATGCATCGGCTAGCCCATTGACAGTAATGCATCGGCTAGCCCAT...TGC seq1\n"
     ]
    }
   ],
   "source": [
    "muscle_exe=\"C:\\\\Users\\\\vhmoh\\\\Downloads\\\\muscle3.8.31_i86win32.exe\"\n",
    "try:\n",
    "    subprocess.run([muscle_exe,\"-in\",\"file.fasta\",\"-out\",\"output.fasta\"],check=True)\n",
    "    alignment=AlignIO.read(\"output.fasta\",\"fasta\")\n",
    "    print(alignment)\n",
    "except FileNotFoundError:\n",
    "    print(\"Error: MUSCLE executable not found. Check the path:\", muscle_exe)\n",
    "except subprocess.CalledProcessError as e:\n",
    "    print(f\"Error running MUSCLE: {e}\")  "
   ]
  },
  {
   "cell_type": "code",
   "execution_count": 6,
   "id": "a55bddee",
   "metadata": {},
   "outputs": [
    {
     "name": "stdout",
     "output_type": "stream",
     "text": [
      "Alignment with 1 rows and 66 columns\n",
      "ATGCATCGGCTAGCCCATTGACAGTAATGCATCGGCTAGCCCAT...TGC seq1\n"
     ]
    }
   ],
   "source": [
    "from Bio import AlignIO\n",
    "import subprocess\n",
    "muscle=\"C:\\\\Users\\\\vhmoh\\\\Downloads\\\\muscle3.8.31_i86win32.exe\"\n",
    "try:\n",
    "    subprocess.run([muscle,\"-in\",\"output.fasta\",\"-out\",\"file.fasta\"],check=True)\n",
    "    align=AlignIO.read(\"file.fasta\",\"fasta\")\n",
    "    print(align)\n",
    "except FileNotFoundError:\n",
    "    print(\"file not found!\")\n",
    "except subprocess.CalledProcessError as e:\n",
    "    print(f\"error: {e}\")"
   ]
  },
  {
   "cell_type": "code",
   "execution_count": null,
   "id": "f601e7de",
   "metadata": {},
   "outputs": [],
   "source": []
  }
 ],
 "metadata": {
  "kernelspec": {
   "display_name": "base",
   "language": "python",
   "name": "python3"
  },
  "language_info": {
   "codemirror_mode": {
    "name": "ipython",
    "version": 3
   },
   "file_extension": ".py",
   "mimetype": "text/x-python",
   "name": "python",
   "nbconvert_exporter": "python",
   "pygments_lexer": "ipython3",
   "version": "3.12.7"
  }
 },
 "nbformat": 4,
 "nbformat_minor": 5
}
