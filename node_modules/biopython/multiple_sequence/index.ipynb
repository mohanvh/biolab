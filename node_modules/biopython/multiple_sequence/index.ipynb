{
 "cells": [
  {
   "cell_type": "code",
   "execution_count": 1,
   "id": "7f46f135",
   "metadata": {},
   "outputs": [
    {
     "name": "stdout",
     "output_type": "stream",
     "text": [
      "Requirement already satisfied: biopython in c:\\users\\vishe\\appdata\\local\\programs\\python\\python311\\lib\\site-packages (1.85)\n",
      "Requirement already satisfied: numpy in c:\\users\\vishe\\appdata\\local\\programs\\python\\python311\\lib\\site-packages (from biopython) (1.26.4)\n",
      "Note: you may need to restart the kernel to use updated packages.\n"
     ]
    },
    {
     "name": "stderr",
     "output_type": "stream",
     "text": [
      "\n",
      "[notice] A new release of pip is available: 24.2 -> 25.1.1\n",
      "[notice] To update, run: python.exe -m pip install --upgrade pip\n"
     ]
    }
   ],
   "source": [
    "%pip install biopython\n"
   ]
  },
  {
   "cell_type": "code",
   "execution_count": 4,
   "id": "b38f66a8",
   "metadata": {},
   "outputs": [
    {
     "name": "stdout",
     "output_type": "stream",
     "text": [
      "Alignment with 2 rows and 12 columns\n",
      "ATCGATCGATCG seq1\n",
      "ATCGATCG-TCG seq2\n"
     ]
    }
   ],
   "source": [
    "import subprocess\n",
    "from Bio import AlignIO\n",
    "\n",
    "# Use the full path to muscle.exe\n",
    "muscle_exe = r\"D:\\biopython\\multiple_sequence\\muscle3.8.31_i86win32.exe\"\n",
    "\n",
    "try:\n",
    "    # Run MUSCLE using subprocess\n",
    "    subprocess.run([muscle_exe, \"-in\", \"input_sequences.fasta\", \"-out\", \"aligned_sequences.fasta\"], check=True)\n",
    "\n",
    "    # Read and print the aligned sequences\n",
    "    alignment = AlignIO.read(\"aligned_sequences.fasta\", \"fasta\")\n",
    "    print(alignment)\n",
    "\n",
    "except FileNotFoundError:\n",
    "    print(\"Error: MUSCLE executable not found. Check the path:\", muscle_exe)\n",
    "\n",
    "except subprocess.CalledProcessError as e:\n",
    "    print(f\"Error running MUSCLE: {e}\")\n"
   ]
  }
 ],
 "metadata": {
  "kernelspec": {
   "display_name": "Python 3",
   "language": "python",
   "name": "python3"
  },
  "language_info": {
   "codemirror_mode": {
    "name": "ipython",
    "version": 3
   },
   "file_extension": ".py",
   "mimetype": "text/x-python",
   "name": "python",
   "nbconvert_exporter": "python",
   "pygments_lexer": "ipython3",
   "version": "3.11.8"
  }
 },
 "nbformat": 4,
 "nbformat_minor": 5
}
