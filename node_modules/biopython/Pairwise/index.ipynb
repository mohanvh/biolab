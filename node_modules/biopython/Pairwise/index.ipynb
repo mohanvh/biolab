{
 "cells": [
  {
   "cell_type": "code",
   "execution_count": 1,
   "id": "ff5294f1",
   "metadata": {},
   "outputs": [
    {
     "name": "stdout",
     "output_type": "stream",
     "text": [
      "Requirement already satisfied: biopython in c:\\users\\vishe\\appdata\\local\\programs\\python\\python311\\lib\\site-packages (1.85)\n",
      "Requirement already satisfied: numpy in c:\\users\\vishe\\appdata\\local\\programs\\python\\python311\\lib\\site-packages (from biopython) (1.26.4)\n",
      "Note: you may need to restart the kernel to use updated packages.\n"
     ]
    },
    {
     "name": "stderr",
     "output_type": "stream",
     "text": [
      "\n",
      "[notice] A new release of pip is available: 24.2 -> 25.1.1\n",
      "[notice] To update, run: python.exe -m pip install --upgrade pip\n"
     ]
    }
   ],
   "source": [
    "%pip install biopython"
   ]
  },
  {
   "cell_type": "code",
   "execution_count": 2,
   "id": "70dc3b52",
   "metadata": {},
   "outputs": [],
   "source": [
    "from Bio.Align import PairwiseAligner\n",
    "from Bio.Seq import Seq\n",
    "seq1= Seq(\"ACGT\")\n",
    "seq2= Seq(\"ACG\")"
   ]
  },
  {
   "cell_type": "code",
   "execution_count": 3,
   "id": "9c4958a8",
   "metadata": {},
   "outputs": [
    {
     "name": "stdout",
     "output_type": "stream",
     "text": [
      "Alignment score: 3.0\n",
      "Alignment:\n",
      "target            0 ACGT 4\n",
      "                  0 |||- 4\n",
      "query             0 ACG- 3\n",
      "\n"
     ]
    }
   ],
   "source": [
    "aligner= PairwiseAligner()\n",
    "alignment= aligner.align(seq1, seq2)\n",
    "print(\"Alignment score:\", alignment[0].score)\n",
    "print(\"Alignment:\")\n",
    "print(alignment[0])"
   ]
  }
 ],
 "metadata": {
  "kernelspec": {
   "display_name": "Python 3",
   "language": "python",
   "name": "python3"
  },
  "language_info": {
   "codemirror_mode": {
    "name": "ipython",
    "version": 3
   },
   "file_extension": ".py",
   "mimetype": "text/x-python",
   "name": "python",
   "nbconvert_exporter": "python",
   "pygments_lexer": "ipython3",
   "version": "3.11.8"
  }
 },
 "nbformat": 4,
 "nbformat_minor": 5
}
