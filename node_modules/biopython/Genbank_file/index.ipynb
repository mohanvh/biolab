{
 "cells": [
  {
   "cell_type": "code",
   "execution_count": 1,
   "id": "b70b1631",
   "metadata": {},
   "outputs": [
    {
     "name": "stdout",
     "output_type": "stream",
     "text": [
      "Requirement already satisfied: biopython in c:\\users\\vishe\\appdata\\local\\programs\\python\\python311\\lib\\site-packages (1.85)\n",
      "Requirement already satisfied: numpy in c:\\users\\vishe\\appdata\\local\\programs\\python\\python311\\lib\\site-packages (from biopython) (1.26.4)\n",
      "Note: you may need to restart the kernel to use updated packages.\n"
     ]
    },
    {
     "name": "stderr",
     "output_type": "stream",
     "text": [
      "\n",
      "[notice] A new release of pip is available: 24.2 -> 25.1.1\n",
      "[notice] To update, run: python.exe -m pip install --upgrade pip\n"
     ]
    }
   ],
   "source": [
    "%pip install biopython"
   ]
  },
  {
   "cell_type": "code",
   "execution_count": 9,
   "id": "be1b1b2d",
   "metadata": {},
   "outputs": [],
   "source": [
    "from Bio.Seq import Seq\n",
    "from Bio.SeqRecord import SeqRecord\n",
    "from Bio import SeqIO"
   ]
  },
  {
   "cell_type": "code",
   "execution_count": 10,
   "id": "a7909b10",
   "metadata": {},
   "outputs": [
    {
     "name": "stdout",
     "output_type": "stream",
     "text": [
      "ACGTACGTACGTACGTACGTACGTACGTACGT\n"
     ]
    }
   ],
   "source": [
    "dna_sequence1=Seq(\"ACGTACGTACGTACGTACGTACGTACGTACGT\")\n",
    "print(dna_sequence1)"
   ]
  },
  {
   "cell_type": "code",
   "execution_count": 11,
   "id": "755482a3",
   "metadata": {},
   "outputs": [],
   "source": [
    "record=SeqRecord(\n",
    "    dna_sequence1,\n",
    "    id=\"seq1\",\n",
    "    name=\"example_sequence\",\n",
    "    description=\"This is an example sequence\",\n",
    "    annotations={\n",
    "        \"molecule_type\": \"DNA\",\n",
    "        \"gene\": \"example_gene\",\n",
    "        \"function\": \"example_function\",\n",
    "    }\n",
    ")"
   ]
  },
  {
   "cell_type": "code",
   "execution_count": 18,
   "id": "b7e321b5",
   "metadata": {},
   "outputs": [
    {
     "name": "stdout",
     "output_type": "stream",
     "text": [
      "Sequence written to D:/biopython/Genbank_file/output.gb\n"
     ]
    }
   ],
   "source": [
    "output_file_path=\"D:/biopython/Genbank_file/output.gb\"\n",
    "with open(output_file_path,\"w\") as output_file:\n",
    "    SeqIO.write(record, output_file, \"genbank\")\n",
    "    print(f\"Sequence written to {output_file_path}\")"
   ]
  },
  {
   "cell_type": "code",
   "execution_count": 19,
   "id": "ebe24ace",
   "metadata": {},
   "outputs": [
    {
     "name": "stdout",
     "output_type": "stream",
     "text": [
      "ID: seq1\n",
      "Name: example_sequence\n",
      "Description: This is an example sequence\n",
      "Number of features: 0\n",
      "/molecule_type=DNA\n",
      "/data_file_division=UNK\n",
      "/date=01-JAN-1980\n",
      "/accessions=['seq1']\n",
      "/keywords=['']\n",
      "/source=\n",
      "/organism=.\n",
      "/taxonomy=[]\n",
      "Seq('ACGTACGTACGTACGTACGTACGTACGTACGT')\n"
     ]
    }
   ],
   "source": [
    "with open(output_file_path,\"r\") as input_file:\n",
    "    record_read=SeqIO.read(input_file, \"genbank\")\n",
    "    print(record_read)"
   ]
  }
 ],
 "metadata": {
  "kernelspec": {
   "display_name": "Python 3",
   "language": "python",
   "name": "python3"
  },
  "language_info": {
   "codemirror_mode": {
    "name": "ipython",
    "version": 3
   },
   "file_extension": ".py",
   "mimetype": "text/x-python",
   "name": "python",
   "nbconvert_exporter": "python",
   "pygments_lexer": "ipython3",
   "version": "3.11.8"
  }
 },
 "nbformat": 4,
 "nbformat_minor": 5
}
