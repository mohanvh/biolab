{
 "cells": [
  {
   "cell_type": "code",
   "execution_count": 1,
   "id": "47898c0f",
   "metadata": {},
   "outputs": [
    {
     "name": "stdout",
     "output_type": "stream",
     "text": [
      "Requirement already satisfied: biopython in c:\\users\\vishe\\appdata\\local\\programs\\python\\python311\\lib\\site-packages (1.85)\n",
      "Requirement already satisfied: numpy in c:\\users\\vishe\\appdata\\local\\programs\\python\\python311\\lib\\site-packages (from biopython) (1.26.4)\n",
      "Note: you may need to restart the kernel to use updated packages.\n"
     ]
    },
    {
     "name": "stderr",
     "output_type": "stream",
     "text": [
      "\n",
      "[notice] A new release of pip is available: 24.2 -> 25.1.1\n",
      "[notice] To update, run: python.exe -m pip install --upgrade pip\n"
     ]
    }
   ],
   "source": [
    "%pip install biopython"
   ]
  },
  {
   "cell_type": "code",
   "execution_count": 7,
   "id": "52a65ad5",
   "metadata": {},
   "outputs": [],
   "source": [
    "from Bio import Entrez\n",
    "from Bio import SeqIO\n",
    "from Bio import Seq"
   ]
  },
  {
   "cell_type": "code",
   "execution_count": null,
   "id": "aa16d21f",
   "metadata": {},
   "outputs": [],
   "source": [
    "Entrez.email=\"\"\n",
    "accession_number = \"NM_001301717\""
   ]
  },
  {
   "cell_type": "code",
   "execution_count": 10,
   "id": "fe96826b",
   "metadata": {},
   "outputs": [
    {
     "name": "stdout",
     "output_type": "stream",
     "text": [
      "Accession Number: NM_001301717.2\n",
      "Description: Homo sapiens C-C motif chemokine receptor 7 (CCR7), transcript variant 4, mRNA\n",
      "Organism: Homo sapiens\n",
      "Sequence: CTCTAGATGAGTCAGTGGAGGGCGGGTGGAGCGTTGAACCGTGAAGAGTGTGGTTGGGCGTAAACGTGGACTTAAACTCAGGAGCTAAGGGGGAAACCAATGAAAAGCGTGCTGGTGGTGGCTCTCCTTGTCATTTTCCAGGTATGCCTGTGTCAAGATGAGGTCACGGACGATTACATCGGAGACAACACCACAGTGGACTACACTTTGTTCGAGTCTTTGTGCTCCAAGAAGGACGTGCGGAACTTTAAAGCCTGGTTCCTCCCTATCATGTACTCCATCATTTGTTTCGTGGGCCTACTGGGCAATGGGCTGGTCGTGTTGACCTATATCTATTTCAAGAGGCTCAAGACCATGACCGATACCTACCTGCTCAACCTGGCGGTGGCAGACATCCTCTTCCTCCTGACCCTTCCCTTCTGGGCCTACAGCGCGGCCAAGTCCTGGGTCTTCGGTGTCCACTTTTGCAAGCTCATCTTTGCCATCTACAAGATGAGCTTCTTCAGTGGCATGCTCCTACTTCTTTGCATCAGCATTGACCGCTACGTGGCCATCGTCCAGGCTGTCTCAGCTCACCGCCACCGTGCCCGCGTCCTTCTCATCAGCAAGCTGTCCTGTGTGGGCATCTGGATACTAGCCACAGTGCTCTCCATCCCAGAGCTCCTGTACAGTGACCTCCAGAGGAGCAGCAGTGAGCAAGCGATGCGATGCTCTCTCATCACAGAGCATGTGGAGGCCTTTATCACCATCCAGGTGGCCCAGATGGTGATCGGCTTTCTGGTCCCCCTGCTGGCCATGAGCTTCTGTTACCTTGTCATCATCCGCACCCTGCTCCAGGCACGCAACTTTGAGCGCAACAAGGCCATCAAGGTGATCATCGCTGTGGTCGTGGTCTTCATAGTCTTCCAGCTGCCCTACAATGGGGTGGTCCTGGCCCAGACGGTGGCCAACTTCAACATCACCAGTAGCACCTGTGAGCTCAGTAAGCAACTCAACATCGCCTACGACGTCACCTACAGCCTGGCCTGCGTCCGCTGCTGCGTCAACCCTTTCTTGTACGCCTTCATCGGCGTCAAGTTCCGCAACGATCTCTTCAAGCTCTTCAAGGACCTGGGCTGCCTCAGCCAGGAGCAGCTCCGGCAGTGGTCTTCCTGTCGGCACATCCGGCGCTCCTCCATGAGTGTGGAGGCCGAGACCACCACCACCTTCTCCCCATAGGCGACTCTTCTGCCTGGACTAGAGGGACCTCTCCCAGGGTCCCTGGGGTGGGGATAGGGAGCAGATGCAATGACTCAGGACATCCCCCCGCCAAAAGCTGCTCAGGGAAAAGCAGCTCTCCCCTCAGAGTGCAAGCCCCTGCTCCAGAAGATAGCTTCACCCCAATCCCAGCTACCTCAACCAATGCCAAAAAAAGACAGGGCTGATAAGCTAACACCAGACAGACAACACTGGGAAACAGAGGCTATTGTCCCCTAAACCAAAAACTGAAAGTGAAAGTCCAGAAACTGTTCCCACCTGCTGGAGTGAAGGGGCCAAGGAGGGTGAGTGCAAGGGGCGTGGGAGTGGCCTGAAGAGTCCTCTGAATGAACCTTCTGGCCTCCCACAGACTCAAATGCTCAGACCAGCTCTTCCGAAAACCAGGCCTTATCTCCAAGACCAGAGATAGTGGGGAGACTTCTTGGCTTGGTGAGGAAAAGCGGACATCAGCTGGTCAAACAAACTCTCTGAACCCCTCCCTCCATCGTTTTCTTCACTGTCCTCCAAGCCAGCGGGAATGGCAGCTGCCACGCCGCCCTAAAAGCACACTCATCCCCTCACTTGCCGCGTCGCCCTCCCAGGCTCTCAACAGGGGAGAGTGTGGTGTTTCCTGCAGGCCAGGCCAGCTGCCTCCGCGTGATCAAAGCCACACTCTGGGCTCCAGAGTGGGGATGACATGCACTCAGCTCTTGGCTCCACTGGGATGGGAGGAGAGGACAAGGGAAATGTCAGGGGCGGGGAGGGTGACAGTGGCCGCCCAAGGCCCACGAGCTTGTTCTTTGTTCTTTGTCACAGGGACTGAAAACCTCTCCTCATGTTCTGCTTTCGATTCGTTAAGAGAGCAACATTTTACCCACACACAGATAAAGTTTTCCCTTGAGGAAACAACAGCTTTAAAAGAAAAAGAAAAAAAAAGTCTTTGGTAAATGGCAAA\n",
      "Length of Sequence: 2191\n",
      "Features: [SeqFeature(SimpleLocation(ExactPosition(0), ExactPosition(2191), strand=1), type='source', qualifiers=...), SeqFeature(SimpleLocation(ExactPosition(0), ExactPosition(2191), strand=1), type='gene', qualifiers=...), SeqFeature(SimpleLocation(ExactPosition(0), ExactPosition(91), strand=1), type='exon', qualifiers=...), SeqFeature(SimpleLocation(ExactPosition(72), ExactPosition(75), strand=1), type='misc_feature', qualifiers=...), SeqFeature(SimpleLocation(ExactPosition(91), ExactPosition(141), strand=1), type='exon', qualifiers=...), SeqFeature(SimpleLocation(ExactPosition(99), ExactPosition(1218), strand=1), type='CDS', qualifiers=...), SeqFeature(SimpleLocation(ExactPosition(99), ExactPosition(153), strand=1), type='sig_peptide', qualifiers=...), SeqFeature(SimpleLocation(ExactPosition(141), ExactPosition(2191), strand=1), type='exon', qualifiers=...), SeqFeature(SimpleLocation(ExactPosition(2160), ExactPosition(2166), strand=1), type='regulatory', qualifiers=...), SeqFeature(SimpleLocation(ExactPosition(2190), ExactPosition(2191), strand=1), type='polyA_site', qualifiers=...)]\n"
     ]
    }
   ],
   "source": [
    "with Entrez.efetch(db=\"nucleotide\", id=accession_number, rettype=\"gb\", retmode=\"text\") as handle:\n",
    "    # Step 4: Parse the GenBank file directly from handle\n",
    "    seq_record = SeqIO.read(handle, \"genbank\")\n",
    "\n",
    "# Step 5: Print the sequence and metadata\n",
    "print(f\"Accession Number: {seq_record.id}\")\n",
    "print(f\"Description: {seq_record.description}\")\n",
    "print(f\"Organism: {seq_record.annotations['organism']}\")\n",
    "print(f\"Sequence: {seq_record.seq}\")\n",
    "print(f\"Length of Sequence: {len(seq_record.seq)}\")\n",
    "print(f\"Features: {seq_record.features}\")"
   ]
  }
 ],
 "metadata": {
  "kernelspec": {
   "display_name": "Python 3",
   "language": "python",
   "name": "python3"
  },
  "language_info": {
   "codemirror_mode": {
    "name": "ipython",
    "version": 3
   },
   "file_extension": ".py",
   "mimetype": "text/x-python",
   "name": "python",
   "nbconvert_exporter": "python",
   "pygments_lexer": "ipython3",
   "version": "3.11.8"
  }
 },
 "nbformat": 4,
 "nbformat_minor": 5
}
