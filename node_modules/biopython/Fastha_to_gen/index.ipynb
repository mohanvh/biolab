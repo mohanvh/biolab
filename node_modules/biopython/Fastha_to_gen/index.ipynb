{
 "cells": [
  {
   "cell_type": "code",
   "execution_count": 1,
   "id": "6faa5946",
   "metadata": {},
   "outputs": [
    {
     "name": "stdout",
     "output_type": "stream",
     "text": [
      "Requirement already satisfied: biopython in c:\\users\\vishe\\appdata\\local\\programs\\python\\python311\\lib\\site-packages (1.85)\n",
      "Requirement already satisfied: numpy in c:\\users\\vishe\\appdata\\local\\programs\\python\\python311\\lib\\site-packages (from biopython) (1.26.4)\n",
      "Note: you may need to restart the kernel to use updated packages.\n"
     ]
    },
    {
     "name": "stderr",
     "output_type": "stream",
     "text": [
      "\n",
      "[notice] A new release of pip is available: 24.2 -> 25.1.1\n",
      "[notice] To update, run: python.exe -m pip install --upgrade pip\n"
     ]
    }
   ],
   "source": [
    "%pip install biopython"
   ]
  },
  {
   "cell_type": "code",
   "execution_count": 2,
   "id": "fe1225a7",
   "metadata": {},
   "outputs": [],
   "source": [
    "from Bio import SeqIO\n",
    "from Bio.SeqRecord import SeqRecord"
   ]
  },
  {
   "cell_type": "code",
   "execution_count": 6,
   "id": "8b89e4c0",
   "metadata": {},
   "outputs": [],
   "source": [
    "def convert(fastafile,genbankfile):\n",
    "    records=[]\n",
    "    for record in SeqIO.parse(fastafile,\"fasta\"):\n",
    "        sequence=record.seq\n",
    "        description=record.description\n",
    "        genbank_record=SeqRecord(\n",
    "            sequence,\n",
    "            id=\"123\",\n",
    "            name=\"123\",\n",
    "            description=description,\n",
    "            annotations={\n",
    "                \"molecule_type\": \"DNA\",\n",
    "               \"gene\":\"Examplegene\",\n",
    "               \"function\":\"Examplefunction\",\n",
    "            }\n",
    "        )\n",
    "        records.append(genbank_record)\n",
    "\n",
    "    with open(genbankfile, \"w\") as output_handle:\n",
    "        SeqIO.write(records, output_handle, \"genbank\")\n",
    "    print(f\"Converted {fastafile} to {genbankfile}\")"
   ]
  },
  {
   "cell_type": "code",
   "execution_count": 8,
   "id": "13b131ca",
   "metadata": {},
   "outputs": [
    {
     "name": "stdout",
     "output_type": "stream",
     "text": [
      "Converted ./fasta_1 (1).fasta to ./output.gb\n"
     ]
    }
   ],
   "source": [
    "fastafile=\"./fasta_1 (1).fasta\"\n",
    "output=\"./output.gb\"\n",
    "convert(fastafile,output)"
   ]
  },
  {
   "cell_type": "code",
   "execution_count": null,
   "id": "39497eb9",
   "metadata": {},
   "outputs": [],
   "source": []
  }
 ],
 "metadata": {
  "kernelspec": {
   "display_name": "Python 3",
   "language": "python",
   "name": "python3"
  },
  "language_info": {
   "codemirror_mode": {
    "name": "ipython",
    "version": 3
   },
   "file_extension": ".py",
   "mimetype": "text/x-python",
   "name": "python",
   "nbconvert_exporter": "python",
   "pygments_lexer": "ipython3",
   "version": "3.11.8"
  }
 },
 "nbformat": 4,
 "nbformat_minor": 5
}
