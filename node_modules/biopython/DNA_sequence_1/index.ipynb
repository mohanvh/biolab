{
 "cells": [
  {
   "cell_type": "code",
   "execution_count": 1,
   "id": "129836a3",
   "metadata": {},
   "outputs": [
    {
     "name": "stdout",
     "output_type": "stream",
     "text": [
      "Requirement already satisfied: biopython in c:\\users\\vishe\\appdata\\local\\programs\\python\\python311\\lib\\site-packages (1.85)Note: you may need to restart the kernel to use updated packages.\n",
      "\n",
      "Requirement already satisfied: numpy in c:\\users\\vishe\\appdata\\local\\programs\\python\\python311\\lib\\site-packages (from biopython) (1.26.4)\n"
     ]
    },
    {
     "name": "stderr",
     "output_type": "stream",
     "text": [
      "\n",
      "[notice] A new release of pip is available: 24.2 -> 25.1.1\n",
      "[notice] To update, run: python.exe -m pip install --upgrade pip\n"
     ]
    }
   ],
   "source": [
    "%pip install biopython"
   ]
  },
  {
   "cell_type": "code",
   "execution_count": 3,
   "id": "5ddea82c",
   "metadata": {},
   "outputs": [
    {
     "name": "stdout",
     "output_type": "stream",
     "text": [
      "CGTACAT\n"
     ]
    }
   ],
   "source": [
    "from Bio.Seq import Seq\n",
    "\n",
    "sequence=Seq(\"ATGCGTACATCGCGATCGACGATCGATCGATCGATCGATCGATCGATCG\")\n",
    "extracted_sequence=sequence[3:10]\n",
    "print(extracted_sequence)"
   ]
  },
  {
   "cell_type": "code",
   "execution_count": 4,
   "id": "5625d9e8",
   "metadata": {},
   "outputs": [
    {
     "name": "stdout",
     "output_type": "stream",
     "text": [
      "ATGCGTACATCGCGATCGACGATCGATCGATCGATCGATCGATCGATGCGTACATCGCGATCGACGATCGATCGATCGATCGATCGATCGATCG\n"
     ]
    }
   ],
   "source": [
    "#final sequence after concatenation\n",
    "sequence2=Seq(\"ATGCGTACATCGCGATCGACGATCGATCGATCGATCGATCGATCG\")\n",
    "final_sequence=sequence2+sequence\n",
    "print(final_sequence)"
   ]
  },
  {
   "cell_type": "code",
   "execution_count": 10,
   "id": "a80e8d38",
   "metadata": {},
   "outputs": [
    {
     "name": "stdout",
     "output_type": "stream",
     "text": [
      "AUGCGUACAUCGCGAUCGACGAUCGAUCGAUCGAUCGAUCGAUCGAUCG\n"
     ]
    }
   ],
   "source": [
    "rna_sequence=sequence.transcribe()\n",
    "print(rna_sequence)"
   ]
  },
  {
   "cell_type": "code",
   "execution_count": 11,
   "id": "53466a41",
   "metadata": {},
   "outputs": [
    {
     "name": "stdout",
     "output_type": "stream",
     "text": [
      "MRTSRSTIDRSIDRSI\n"
     ]
    },
    {
     "name": "stderr",
     "output_type": "stream",
     "text": [
      "c:\\Users\\vishe\\AppData\\Local\\Programs\\Python\\Python311\\Lib\\site-packages\\Bio\\Seq.py:2879: BiopythonWarning: Partial codon, len(sequence) not a multiple of three. Explicitly trim the sequence or add trailing N before translation. This may become an error in future.\n",
      "  warnings.warn(\n"
     ]
    }
   ],
   "source": [
    "protein_sequence=rna_sequence.translate()\n",
    "print(protein_sequence)"
   ]
  }
 ],
 "metadata": {
  "kernelspec": {
   "display_name": "Python 3",
   "language": "python",
   "name": "python3"
  },
  "language_info": {
   "codemirror_mode": {
    "name": "ipython",
    "version": 3
   },
   "file_extension": ".py",
   "mimetype": "text/x-python",
   "name": "python",
   "nbconvert_exporter": "python",
   "pygments_lexer": "ipython3",
   "version": "3.11.8"
  }
 },
 "nbformat": 4,
 "nbformat_minor": 5
}
