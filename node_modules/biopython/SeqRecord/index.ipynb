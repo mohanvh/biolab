{
 "cells": [
  {
   "cell_type": "code",
   "execution_count": 1,
   "id": "1f816adb",
   "metadata": {},
   "outputs": [
    {
     "name": "stdout",
     "output_type": "stream",
     "text": [
      "Requirement already satisfied: biopython in c:\\users\\vishe\\appdata\\local\\programs\\python\\python311\\lib\\site-packages (1.85)\n",
      "Requirement already satisfied: numpy in c:\\users\\vishe\\appdata\\local\\programs\\python\\python311\\lib\\site-packages (from biopython) (1.26.4)\n",
      "Note: you may need to restart the kernel to use updated packages.\n"
     ]
    },
    {
     "name": "stderr",
     "output_type": "stream",
     "text": [
      "\n",
      "[notice] A new release of pip is available: 24.2 -> 25.1.1\n",
      "[notice] To update, run: python.exe -m pip install --upgrade pip\n"
     ]
    }
   ],
   "source": [
    "%pip install biopython"
   ]
  },
  {
   "cell_type": "code",
   "execution_count": 3,
   "id": "93b1206b",
   "metadata": {},
   "outputs": [],
   "source": [
    "\n",
    "from Bio.Seq import Seq\n",
    "from Bio.SeqRecord import SeqRecord"
   ]
  },
  {
   "cell_type": "code",
   "execution_count": 4,
   "id": "4cc6164e",
   "metadata": {},
   "outputs": [],
   "source": [
    "dna_dequence=Seq(\"ACGTACGTACGTACGT\")\n",
    "record=SeqRecord(dna_dequence, id=\"12345\", name=\"example_sequence\", description=\"This is an example sequence\")"
   ]
  },
  {
   "cell_type": "code",
   "execution_count": 5,
   "id": "15cd5638",
   "metadata": {},
   "outputs": [],
   "source": [
    "record.annotations[\"gene\"] = \"example_gene\"\n",
    "record.annotations[\"organism\"] = \"example_organism\"\n",
    "record.annotations[\"function\"] = \"example_function\""
   ]
  },
  {
   "cell_type": "code",
   "execution_count": 6,
   "id": "6466af43",
   "metadata": {},
   "outputs": [],
   "source": [
    "from Bio.SeqFeature import SeqFeature, FeatureLocation\n",
    "gene_feature=SeqFeature(FeatureLocation(0, 21), type=\"gene\", qualifiers={\"gene\": \"example_gene\"})\n",
    "record.features.append(gene_feature)\n",
    "record.annotations[\"function\"]=\"Hypothetical protein\""
   ]
  },
  {
   "cell_type": "code",
   "execution_count": 7,
   "id": "da884b02",
   "metadata": {},
   "outputs": [
    {
     "name": "stdout",
     "output_type": "stream",
     "text": [
      "ID: 12345\n",
      "Name: example_sequence\n",
      "Description: This is an example sequence\n",
      "Annotations: {'gene': 'example_gene', 'organism': 'example_organism', 'function': 'Hypothetical protein'}\n",
      "Sequence: ACGTACGTACGTACGT\n",
      "Features:\n",
      " - Type: gene\n",
      "   Location: [0:21]\n",
      "   Qualifiers: {'gene': 'example_gene'}\n"
     ]
    }
   ],
   "source": [
    "print(\"ID:\", record.id)\n",
    "print(\"Name:\", record.name)\n",
    "print(\"Description:\", record.description)\n",
    "print(\"Annotations:\", record.annotations)\n",
    "print(\"Sequence:\", record.seq)\n",
    "print(\"Features:\")\n",
    "for feature in record.features:\n",
    "    print(\" - Type:\", feature.type)\n",
    "    print(\"   Location:\", feature.location)\n",
    "    print(\"   Qualifiers:\", feature.qualifiers)"
   ]
  },
  {
   "cell_type": "code",
   "execution_count": null,
   "id": "7bf60e9c",
   "metadata": {},
   "outputs": [],
   "source": []
  }
 ],
 "metadata": {
  "kernelspec": {
   "display_name": "Python 3",
   "language": "python",
   "name": "python3"
  },
  "language_info": {
   "codemirror_mode": {
    "name": "ipython",
    "version": 3
   },
   "file_extension": ".py",
   "mimetype": "text/x-python",
   "name": "python",
   "nbconvert_exporter": "python",
   "pygments_lexer": "ipython3",
   "version": "3.11.8"
  }
 },
 "nbformat": 4,
 "nbformat_minor": 5
}
