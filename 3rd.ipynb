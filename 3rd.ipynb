{
 "cells": [
  {
   "cell_type": "code",
   "execution_count": 4,
   "id": "682b28a6",
   "metadata": {},
   "outputs": [],
   "source": [
    "from Bio import SeqIO\n",
    "from Bio.Seq import Seq\n",
    "from Bio.SeqRecord import SeqRecord"
   ]
  },
  {
   "cell_type": "code",
   "execution_count": 5,
   "id": "4dd87ce8",
   "metadata": {},
   "outputs": [],
   "source": [
    "dna_seq=Seq(\"ATGCATCGAATCAGA\")\n",
    "record=SeqRecord(dna_seq,id=\"seq\",name=\"example\",description=\"example description\",annotations={\n",
    "    \"molecule_type\":\"DNA\"\n",
    "})\n"
   ]
  },
  {
   "cell_type": "code",
   "execution_count": 7,
   "id": "c6e4b510",
   "metadata": {},
   "outputs": [
    {
     "name": "stdout",
     "output_type": "stream",
     "text": [
      "Successfully written\n"
     ]
    }
   ],
   "source": [
    "out=\"C:\\\\Users\\\\vhmoh\\\\Desktop\\\\temp\\\\out.gb\"\n",
    "with open(out,\"w\") as file:\n",
    "    SeqIO.write(record,out,\"genbank\")\n",
    "print(\"Successfully written\")"
   ]
  },
  {
   "cell_type": "code",
   "execution_count": 8,
   "id": "d187af59",
   "metadata": {},
   "outputs": [
    {
     "name": "stdout",
     "output_type": "stream",
     "text": [
      "ID: seq\n",
      "Name: example\n",
      "Description: example description\n",
      "Number of features: 0\n",
      "/molecule_type=DNA\n",
      "/data_file_division=UNK\n",
      "/date=01-JAN-1980\n",
      "/accessions=['seq']\n",
      "/keywords=['']\n",
      "/source=\n",
      "/organism=.\n",
      "/taxonomy=[]\n",
      "Seq('ATGCATCGAATCAGA')\n"
     ]
    }
   ],
   "source": [
    "with open(out,\"r\") as file:\n",
    "    readq=SeqIO.read(file,\"genbank\")\n",
    "    print(readq)"
   ]
  },
  {
   "cell_type": "code",
   "execution_count": null,
   "id": "863f3849",
   "metadata": {},
   "outputs": [],
   "source": []
  }
 ],
 "metadata": {
  "kernelspec": {
   "display_name": "base",
   "language": "python",
   "name": "python3"
  },
  "language_info": {
   "codemirror_mode": {
    "name": "ipython",
    "version": 3
   },
   "file_extension": ".py",
   "mimetype": "text/x-python",
   "name": "python",
   "nbconvert_exporter": "python",
   "pygments_lexer": "ipython3",
   "version": "3.12.7"
  }
 },
 "nbformat": 4,
 "nbformat_minor": 5
}
